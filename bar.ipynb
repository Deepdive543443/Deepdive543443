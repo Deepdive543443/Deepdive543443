{
 "cells": [
  {
   "cell_type": "markdown",
   "metadata": {},
   "source": [
    "Generate the bar"
   ]
  },
  {
   "cell_type": "code",
   "execution_count": null,
   "metadata": {},
   "outputs": [],
   "source": []
  },
  {
   "cell_type": "code",
   "execution_count": null,
   "metadata": {},
   "outputs": [],
   "source": [
    "def on_train_batch_end(\n",
    "        current_epoch, max_epochs, num_training_batches, batch_idx, bar_length\n",
    "    ):\n",
    "        epoch_info = 'Epoch[{current_epoch:4.0f}/{max_epoch:4.0f}] '.format(\n",
    "            current_epoch = current_epoch, max_epoch = max_epochs\n",
    "        )\n",
    "\n",
    "        # Show the percentage of progress\n",
    "        percent = (batch_idx / (num_training_batches - 1))\n",
    "        percent_info = \"{:8.2f}% \".format(percent * 100)\n",
    "\n",
    "        # Shows the batch index of progress\n",
    "        batch_idx_info = '{batch_idx:6.0f}/{num_training_batches:6.0f} '.format(\n",
    "            batch_idx=batch_idx + 1, num_training_batches=num_training_batches\n",
    "        )\n",
    "\n",
    "        bar = list('=' * int(percent * bar_length) + '>' + '-' * (bar_length - int(percent * bar_length)))\n",
    "        bar[0], bar[-1] = '[', ']'\n",
    "        bar = ''.join(bar)\n",
    "\n",
    "        print(\"\\r\" + epoch_info + percent_info + bar + batch_idx_info, end='\\r', flush=True)\n",
    "        return epoch_info + percent_info + bar + batch_idx_info"
   ]
  },
  {
   "cell_type": "code",
   "execution_count": null,
   "metadata": {},
   "outputs": [
    {
     "name": "stdout",
     "output_type": "stream",
     "text": [
      "Epoch[ 100/ 500]   7.30% [=>-------------------------------------]   147/  2000 \r"
     ]
    },
    {
     "data": {
      "text/plain": [
       "'Epoch[ 100/ 500]   7.30% [=>-------------------------------------]   147/  2000 '"
      ]
     },
     "execution_count": 43,
     "metadata": {},
     "output_type": "execute_result"
    }
   ],
   "source": [
    "on_train_batch_end(100, 500, 2000, 146, 40)"
   ]
  },
  {
   "cell_type": "code",
   "execution_count": null,
   "metadata": {},
   "outputs": [
    {
     "name": "stdout",
     "output_type": "stream",
     "text": [
      "Epoch[ 100/ 500]   7.30% [>------------------------]   147/  2000 \r"
     ]
    },
    {
     "data": {
      "text/plain": [
       "True"
      ]
     },
     "execution_count": 44,
     "metadata": {},
     "output_type": "execute_result"
    },
    {
     "data": {
      "image/png": "[encoded data removed]",
      "text/plain": [
       "<Figure size 432x288 with 1 Axes>"
      ]
     },
     "metadata": {
      "needs_background": "light"
     },
     "output_type": "display_data"
    }
   ],
   "source": [
    "import numpy as np\n",
    "import cv2\n",
    "import matplotlib.pyplot as plt\n",
    "\n",
    "image = np.uint8(np.ones(shape = (64, 1400, 3))) * 255\n",
    "\n",
    "font = cv2.FONT_HERSHEY_SIMPLEX\n",
    "  \n",
    "# org\n",
    "org = (50, 45)\n",
    "  \n",
    "# fontScale\n",
    "fontScale = 1\n",
    "   \n",
    "# Blue color in BGR\n",
    "color = (0, 0, 0)\n",
    "  \n",
    "# Line thickness of 2 px\n",
    "thickness = 2\n",
    "   \n",
    "# Using cv2.putText() method\n",
    "image = cv2.putText(cv2.cvtColor(image, cv2.COLOR_BGR2RGB) , on_train_batch_end(100, 500, 2000, 146, 26), org, font, \n",
    "                   fontScale, color, thickness, cv2.LINE_AA)\n",
    "plt.imshow(image)\n",
    "cv2.imwrite(img = image, filename='image_test.jpg')\n"
   ]
  },
  {
   "cell_type": "code",
   "execution_count": null,
   "metadata": {},
   "outputs": [
    {
     "name": "stdout",
     "output_type": "stream",
     "text": [
      "Epoch[ 100/ 500] 100.00% [=========================]  2000/  2000 \r"
     ]
    }
   ],
   "source": [
    "import imageio\n",
    "\n",
    "gif = []\n",
    "\n",
    "for i in range(2000):\n",
    "    # Reset image\n",
    "    image = np.uint8(np.ones(shape = (64, 1400, 3))) * 255\n",
    "    gif.append(\n",
    "        cv2.putText(cv2.cvtColor(image, cv2.COLOR_BGR2RGB) , on_train_batch_end(100, 500, 2000, i, 26), org, font, \n",
    "                   fontScale, color, thickness, cv2.LINE_AA)\n",
    "    )\n",
    "    \n",
    "imageio.mimsave('video.gif', gif[::10], fps=30)"
   ]
  }
 ],
 "metadata": {
  "kernelspec": {
   "display_name": "Python 3.8.10 ('pytorch')",
   "language": "python",
   "name": "python3"
  },
  "language_info": {
   "name": "python",
   "version": "3.8.10"
  },
  "orig_nbformat": 4,
  "vscode": {
   "interpreter": {
    "hash": "0747f93ff6db21b2db2bf35ad4858dd0825b9c21797c41b4cc32097944ab3f10"
   }
  }
 },
 "nbformat": 4,
 "nbformat_minor": 2
}
